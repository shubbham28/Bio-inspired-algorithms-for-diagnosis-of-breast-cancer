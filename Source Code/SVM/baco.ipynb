{
 "cells": [
  {
   "cell_type": "code",
   "execution_count": 1,
   "metadata": {},
   "outputs": [],
   "source": [
    "import random,math,copy,timeit,operator\n",
    "from sklearn import utils,preprocessing\n",
    "import numpy as np\n",
    "import pandas as pd\n",
    "from sklearn.model_selection import train_test_split\n",
    "from copy import deepcopy as dc\n",
    "from sys import exit\n",
    "from sklearn import svm\n",
    "from sklearn import model_selection as ms"
   ]
  },
  {
   "cell_type": "code",
   "execution_count": 2,
   "metadata": {},
   "outputs": [],
   "source": [
    "class ants(object):\n",
    "    def __init__(self,gens=None,mse=None):\n",
    "        self.gens=gens\n",
    "        self.mse=mse"
   ]
  },
  {
   "cell_type": "code",
   "execution_count": 3,
   "metadata": {},
   "outputs": [],
   "source": [
    "def random_search(n,dim):\n",
    "    gens=[[0 for g in range(dim)] for _ in range(n)]\n",
    "    for i,gen in enumerate(gens) :\n",
    "        r=random.randint(1,dim)\n",
    "        for _r in range(r):\n",
    "            gen[_r]=1\n",
    "        random.shuffle(gen)\n",
    "    return gens\n",
    "\n"
   ]
  },
  {
   "cell_type": "code",
   "execution_count": 4,
   "metadata": {},
   "outputs": [],
   "source": [
    "def k_search(n,dim,flist,pheromone):\n",
    "    gens=[[0 for g in range(dim)] for _ in range(n)]\n",
    "    for i,gen in enumerate(gens) :\n",
    "        r=random.randint(1,dim)\n",
    "        for _r in range(r):\n",
    "            gen[_r]=1\n",
    "        random.shuffle(gen)\n",
    "        for j,x in enumerate(gen):\n",
    "            gen[j]=flist[j]*gen[j]\n",
    "    return gens\n"
   ]
  },
  {
   "cell_type": "code",
   "execution_count": 5,
   "metadata": {},
   "outputs": [],
   "source": [
    "def evaluate(train_d,train_l,gen):\n",
    "        mask=np.array(gen) > 0\n",
    "        al_data=np.array([al[mask] for al in train_d])\n",
    "        kf = ms.KFold(n_splits=4)\n",
    "        s = 0\n",
    "        for tr_ix,te_ix in kf.split(al_data):\n",
    "            s+= svm.LinearSVC().fit(al_data[tr_ix],train_l[tr_ix]).score(al_data[te_ix],train_l[te_ix])#.predict(al_test_data)\n",
    "        s/=4\n",
    "        return s"
   ]
  },
  {
   "cell_type": "code",
   "execution_count": 18,
   "metadata": {},
   "outputs": [
    {
     "ename": "IndentationError",
     "evalue": "unexpected indent (<ipython-input-18-32e546b5efdc>, line 38)",
     "output_type": "error",
     "traceback": [
      "\u001b[0;36m  File \u001b[0;32m\"<ipython-input-18-32e546b5efdc>\"\u001b[0;36m, line \u001b[0;32m38\u001b[0m\n\u001b[0;31m    flist=list([0]*dim)\u001b[0m\n\u001b[0m    ^\u001b[0m\n\u001b[0;31mIndentationError\u001b[0m\u001b[0;31m:\u001b[0m unexpected indent\n"
     ]
    }
   ],
   "source": [
    "def BACO(train_d,train_l,n=30,max_iter=25,T0=0.1,k=10,m=25,p=3,rho=0.25):\n",
    "    \"\"\"\n",
    "    input:{ Eval_Func: Evaluate_Function, type is class\n",
    "            n: Number of population, default=20\n",
    "            max_iter: Number of max iteration, default=300\n",
    "            }\n",
    "    output:{\n",
    "            Best position: type list(int) [1,0,0,1,.....]\n",
    "            Nunber of 1s in best position: type int [0,1,1,0,1] → 3\n",
    "            }\n",
    "    \"\"\"\n",
    "    dim=len(train_d[0])\n",
    "    global_best=float(\"-inf\")\n",
    "    pheromone=list([T0]*dim)\n",
    "    pher_diff=list([0]*dim)\n",
    "    global_position=tuple([0]*dim)\n",
    "    antslist=[]\n",
    "    gens_dict = {}\n",
    "    for i in range(n):\n",
    "        gens=random_search(m,dim)\n",
    "        mse=0\n",
    "        for gen in gens:\n",
    "            if tuple(gen) in gens_dict:\n",
    "                score = gens_dict[tuple(gen)]\n",
    "            else:\n",
    "                score=evaluate(train_d,train_l,gen)\n",
    "                gens_dict[tuple(gen)]=score\n",
    "            global_best=score\n",
    "            global_position=dc(gen)\n",
    "            mse+=score\n",
    "        mse=mse/m\n",
    "        antslist.append(ants(gens,mse))\n",
    "    antslist.sort(key=operator.attrgetter('mse'), reverse=True)\n",
    "    klist=list(antslist[i] for i in range(k))\n",
    "    mselist=list(antslist[i].mse for i in range(k))\n",
    "    for j in range(len(klist)):\n",
    "        diff=(max(mselist)-mselist[j])/(max(max(mselist)-mselist))\n",
    "        flist=list([0]*dim)\n",
    "        for gen in klist[j].gens:\n",
    "            for a,x in enumerate(gen):\n",
    "                if x==1:\n",
    "                    pher_diff[a]=diff\n",
    "                    flist[a]=1\n",
    "                else:\n",
    "                    pher_diff[a]=0\n",
    "    \n",
    "    for i in range(len(pheromone)):\n",
    "        pheromone[i]=pheromone[i]*rho + pher_diff[i]\n",
    "        \n",
    "        \n",
    "    for it in range(max_iter):\n",
    "        m=m-p\n",
    "        for i in range(n):\n",
    "            gens=k_search(m,dim,flist,pheromone)\n",
    "            mse=0\n",
    "            for gen in gens:\n",
    "                if tuple(gen) in gens_dict:\n",
    "                    score = gens_dict[tuple(gen)]\n",
    "                else:\n",
    "                    score=evaluate(train_d,train_l,gen)\n",
    "                    gens_dict[tuple(gen)]=score\n",
    "                global_best=score\n",
    "                global_position=dc(gen)\n",
    "                mse+=score\n",
    "            mse=mse/m\n",
    "            antslist.append(ants(gens,mse))\n",
    "        antslist.sort(key=operator.attrgetter('mse'), reverse=True)\n",
    "        klist=list(antslist[i] for i in range(k))\n",
    "        mselist=list(antslist[i].mse for i in range(k))\n",
    "        for j in range(len(klist)):\n",
    "            diff=(max(mselist)-mselist[j])/(max(max(mselist)-mselist))\n",
    "            flist=list([0]*dim)\n",
    "            for gen in klist[j].gens:\n",
    "                for i,x in enumerate(gen):\n",
    "                    if x==1:\n",
    "                        pher_diff[i]=diff\n",
    "                        flist[i]=1\n",
    "                    else:\n",
    "                        pher_diff[i]=0\n",
    "    \n",
    "        for i in range(len(pheromone)):\n",
    "            pheromone[i]=pheromone[i]*rho + pher_diff[i]\n",
    "\n",
    "        \n",
    "    return global_position,global_position.count(1)\n"
   ]
  },
  {
   "cell_type": "code",
   "execution_count": 7,
   "metadata": {},
   "outputs": [],
   "source": [
    "def test_score(gen,tr_x,tr_y,te_x,te_y):\n",
    "    mask=np.array(gen) == 1\n",
    "    al_data=np.array(tr_x[:,mask])\n",
    "    al_test_data=np.array(te_x[:,mask])\n",
    "    return np.mean([svm.LinearSVC().fit(al_data,tr_y).score(al_test_data,te_y) for i in range(5)])"
   ]
  },
  {
   "cell_type": "code",
   "execution_count": 8,
   "metadata": {},
   "outputs": [],
   "source": [
    "with open(\"/home/shubbham28/Downloads/bc/wdbc1.csv\") as f:\n",
    "    x=np.array([[float(d) for d  in data.split(',')] for data in f.read().splitlines()])\n",
    "with open(\"/home/shubbham28/Downloads/bc/wdbc2.csv\") as f:\n",
    "    y=np.array([float(data) for data in f.read().splitlines()])\n",
    "lab_enc = preprocessing.LabelEncoder()\n",
    "training_scores_encoded = lab_enc.fit_transform(y)\n",
    "train_d, test_d, train_l, test_l = train_test_split(x, training_scores_encoded, test_size=0.25)"
   ]
  },
  {
   "cell_type": "code",
   "execution_count": 27,
   "metadata": {
    "scrolled": true
   },
   "outputs": [
    {
     "name": "stdout",
     "output_type": "stream",
     "text": [
      "0.8293706293706296\n",
      "1  000010001000010010000100000000  5  0.832168\n",
      "2  000001000000010110011010010000  8  0.801399\n",
      "3  001000000000000000000000000000  1  0.744056\n",
      "4  000010100001001001000000000000  5  0.867133\n",
      "5  110000010011000100011001000010  10  0.869930\n",
      "6  100011101110001110001100111111  18  0.925874\n",
      "7  011000011000101101110100101010  14  0.820979\n",
      "8  010000000000100011001011000100  8  0.858741\n",
      "9  100001001010011001111111110000  15  0.869930\n",
      "10  101001010011010110100011011000  14  0.857343\n",
      "11  001010011000100000001000000001  7  0.853147\n",
      "12  001101100110001000000001000001  9  0.813986\n",
      "13  000011000100000101001100001100  9  0.955245\n",
      "14  110000111000011000101110101011  15  0.808392\n",
      "15  000000000010000100000110010000  5  0.801399\n",
      "16  111101111111111110111101100110  24  0.925874\n",
      "17  000000000000000010000000010010  3  0.783217\n",
      "18  001000000000000000000100000000  2  0.793007\n",
      "19  000000000000000110000000000000  2  0.587413\n",
      "20  110111111111011110111110101101  24  0.868531\n",
      "Final:   001001001010001110001100000000   9   0.831888    4748.7852\n"
     ]
    }
   ],
   "source": [
    "k=[1 for r in range(len(x[0]))]\n",
    "print test_score(k,train_d,train_l,test_d,test_l)\n",
    "fattr=0\n",
    "ftest=0.0\n",
    "flist=[0 for r in range(len(x[0]))]\n",
    "final_list=[0 for r in range(len(x[0]))]\n",
    "start=timeit.default_timer()\n",
    "for i in range(20):\n",
    "    g,l=BACO(train_d,train_l,n=30,max_iter=25,T0=0.1,k=10,m=25,p=3,rho=0.25)\n",
    "    fattr+=l\n",
    "    test=test_score(g,train_d,train_l,test_d,test_l)\n",
    "    ftest+=test\n",
    "    for j in range(len(flist)):\n",
    "        if g[j]==1:\n",
    "            flist[j]+=1\n",
    "    print(\"{0}  {1}  {2}  {3:.6f}\".format(i+1,\"\".join(map(str,g)),l,test))\n",
    "fattr=fattr/20\n",
    "ftest=ftest/20\n",
    "end=timeit.default_timer()\n",
    "time=end-start\n",
    "final=np.argsort(flist)[::-1][:fattr]\n",
    "for i in range(len(final)):\n",
    "    final_list[final[i]]=1\n",
    "print(\"{0}  {1}   {2}   {3:.6f}    {4:.4f}\".format(\"Final: \",\"\".join(map(str,final_list)),fattr,ftest,time))"
   ]
  }
 ],
 "metadata": {
  "kernelspec": {
   "display_name": "Python 2",
   "language": "python",
   "name": "python2"
  },
  "language_info": {
   "codemirror_mode": {
    "name": "ipython",
    "version": 2
   },
   "file_extension": ".py",
   "mimetype": "text/x-python",
   "name": "python",
   "nbconvert_exporter": "python",
   "pygments_lexer": "ipython2",
   "version": "2.7.15rc1"
  }
 },
 "nbformat": 4,
 "nbformat_minor": 2
}
