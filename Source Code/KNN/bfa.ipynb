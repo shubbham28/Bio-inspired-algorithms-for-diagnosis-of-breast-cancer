{
 "cells": [
  {
   "cell_type": "code",
   "execution_count": 1,
   "metadata": {},
   "outputs": [],
   "source": [
    "import random,math,timeit\n",
    "from sklearn import preprocessing\n",
    "import numpy as np\n",
    "import pandas as pd\n",
    "from sklearn.model_selection import train_test_split\n",
    "from copy import deepcopy as dc\n",
    "from sklearn.neighbors import KNeighborsClassifier\n",
    "from sklearn import model_selection as ms"
   ]
  },
  {
   "cell_type": "code",
   "execution_count": 2,
   "metadata": {},
   "outputs": [],
   "source": [
    "def random_search(n,dim):\n",
    "    gens=[[0 for g in range(dim)] for _ in range(n)]\n",
    "    for i,gen in enumerate(gens) :\n",
    "        r=random.randint(1,dim)\n",
    "        for _r in range(r):\n",
    "            gen[_r]=1\n",
    "        random.shuffle(gen)\n",
    "    return gens\n",
    "\n"
   ]
  },
  {
   "cell_type": "code",
   "execution_count": 3,
   "metadata": {},
   "outputs": [],
   "source": [
    "def case1(move):\n",
    "    return 1 if random.uniform(-0.1,0.9)<move else 0\n",
    "def case2(one_bin):\n",
    "    if random.uniform(-0.1,0.9)<math.tanh(int(one_bin)):\n",
    "        if one_bin==1:\n",
    "            return 0\n",
    "        else:return 1\n",
    "    else:return one_bin\n",
    "def exchange_binary(binary,score,alpha,beta,gamma):\n",
    "    al_binary=binary\n",
    "    e=0.05*random.uniform(0,1)\n",
    "    movement=beta*math.exp(-gamma*score**2)*score + alpha*e\n",
    "    if random.uniform(0,1) < movement:\n",
    "        for i,b in enumerate(binary):\n",
    "            move=beta*math.exp(-gamma*b**2)*b + alpha*e\n",
    "            al_binary[i]=case1(move)\n",
    "    else:\n",
    "        for i,b in enumerate(binary):\n",
    "            move=beta*math.exp(-gamma*b**2)*b + alpha*e\n",
    "            al_binary[i]=case2(move)\n",
    "    return al_binary"
   ]
  },
  {
   "cell_type": "code",
   "execution_count": 4,
   "metadata": {},
   "outputs": [],
   "source": [
    "def evaluate(train_d,train_l,gen):\n",
    "        mask=np.array(gen) > 0\n",
    "        al_data=np.array([al[mask] for al in train_d])\n",
    "        kf = ms.KFold(n_splits=4)\n",
    "        s = 0\n",
    "        for tr_ix,te_ix in kf.split(al_data):\n",
    "            s+= KNeighborsClassifier(n_neighbors=3).fit(al_data[tr_ix],train_l[tr_ix]).score(al_data[te_ix],train_l[te_ix])#.predict(al_test_data)\n",
    "        s/=4\n",
    "        return s"
   ]
  },
  {
   "cell_type": "code",
   "execution_count": 5,
   "metadata": {},
   "outputs": [],
   "source": [
    "def BFA(train_d,train_l,n=20,max_iter=25,gamma=0.20,beta=0.20,alpha=0.25):\n",
    "    \"\"\"\n",
    "    input:{ Eval_Func: Evaluate_Function, type is class\n",
    "            n: Number of population, default=20\n",
    "            max_iter: Number of max iteration, default=300\n",
    "            }\n",
    "    output:{\n",
    "            Best position: type list(int) [1,0,0,1,.....]\n",
    "            Nunber of 1s in best position: type int [0,1,1,0,1] → 3\n",
    "            }\n",
    "    \"\"\"\n",
    "    dim=len(train_d[0])\n",
    "    global_best=float(\"-inf\")\n",
    "    global_position=tuple([0]*dim)\n",
    "    gens_dict = {tuple([0]*dim):float(\"-inf\")}\n",
    "    gens=random_search(n,dim)\n",
    "    for gen in gens:\n",
    "        if tuple(gen) in gens_dict:\n",
    "            score = gens_dict[tuple(gen)]\n",
    "        else:\n",
    "            score=evaluate(train_d,train_l,gen)\n",
    "            gens_dict[tuple(gen)]=score\n",
    "        if score > global_best:\n",
    "            global_best=score\n",
    "            global_position=dc(gen)\n",
    "    for it in range(max_iter):\n",
    "        for i,x in enumerate(gens):\n",
    "            for j,y in enumerate(gens):\n",
    "                if gens_dict[tuple(y)] < gens_dict[tuple(x)]:\n",
    "                    gens[j]=exchange_binary(y,gens_dict[tuple(y)],alpha,beta,gamma)\n",
    "                gen = gens[j]\n",
    "                if tuple(gen) in gens_dict:\n",
    "                    score = gens_dict[tuple(gen)]\n",
    "                else:\n",
    "                    score=evaluate(train_d,train_l,gens[j])\n",
    "                    gens_dict[tuple(gen)]=score\n",
    "                if score > global_best:\n",
    "                    global_best=score\n",
    "                    global_position=dc(gen)\n",
    "    return global_position,global_position.count(1)\n"
   ]
  },
  {
   "cell_type": "code",
   "execution_count": 6,
   "metadata": {},
   "outputs": [],
   "source": [
    "def test_score(gen,tr_x,tr_y,te_x,te_y):\n",
    "    mask=np.array(gen) == 1\n",
    "    al_data=np.array(tr_x[:,mask])\n",
    "    al_test_data=np.array(te_x[:,mask])\n",
    "    return np.mean([KNeighborsClassifier(n_neighbors=3).fit(al_data,tr_y).score(al_test_data,te_y) for i in range(5)])"
   ]
  },
  {
   "cell_type": "code",
   "execution_count": 7,
   "metadata": {},
   "outputs": [],
   "source": [
    "with open(\"/home/shubbham28/Downloads/bc/wdbc1.csv\") as f:\n",
    "    x=np.array([[float(d) for d  in data.split(',')] for data in f.read().splitlines()])\n",
    "with open(\"/home/shubbham28/Downloads/bc/wdbc2.csv\") as f:\n",
    "    y=np.array([float(data) for data in f.read().splitlines()])\n",
    "lab_enc = preprocessing.LabelEncoder()\n",
    "training_scores_encoded = lab_enc.fit_transform(y)\n",
    "train_d, test_d, train_l, test_l = train_test_split(x, training_scores_encoded, test_size=0.25)"
   ]
  },
  {
   "cell_type": "code",
   "execution_count": 8,
   "metadata": {
    "scrolled": true
   },
   "outputs": [
    {
     "name": "stdout",
     "output_type": "stream",
     "text": [
      "0.9230769230769231\n",
      "1  010000000010100000000010000000  4  0.944056\n",
      "2  000000000100000010001000001000  4  0.930070\n",
      "3  011010110001000111001110110010  15  0.951049\n",
      "4  010000000100000001000010001101  7  0.944056\n",
      "5  010000000001001010001010000000  6  0.944056\n",
      "6  010000000011001000000010010000  6  0.944056\n",
      "7  000000100110000100001000001010  7  0.916084\n",
      "8  011000000000000000101110000000  6  0.951049\n",
      "9  010000001101001111000010010111  13  0.944056\n",
      "10  010000001010100000000010000000  5  0.944056\n",
      "11  110011100001101001000110010101  14  0.944056\n",
      "12  110010000000000000001010001010  7  0.944056\n",
      "13  000000000000001010000110000010  5  0.937063\n",
      "14  010000000000100001001010010000  6  0.944056\n",
      "15  110000000000000000000010000010  4  0.944056\n",
      "16  010000000100100000010010000000  5  0.944056\n",
      "17  000000000000001000000110000100  4  0.937063\n",
      "18  010001100000000100011010100000  8  0.944056\n",
      "19  110001001000000010100010000000  7  0.944056\n",
      "20  010011001000001010001010011000  10  0.944056\n",
      "Final:   010000000000001010001010010010   7   0.941958    460.7672\n"
     ]
    }
   ],
   "source": [
    "k=[1 for r in range(len(x[0]))]\n",
    "print test_score(k,train_d,train_l,test_d,test_l)\n",
    "fattr=0\n",
    "ftest=0.0\n",
    "flist=[0 for r in range(len(x[0]))]\n",
    "final_list=[0 for r in range(len(x[0]))]\n",
    "start=timeit.default_timer()\n",
    "for i in range(20):\n",
    "    g,l=BFA(train_d,train_l,n=20,max_iter=25,gamma=0.20,beta=0.20,alpha=0.25)\n",
    "    fattr+=l\n",
    "    test=test_score(g,train_d,train_l,test_d,test_l)\n",
    "    ftest+=test\n",
    "    for j in range(len(flist)):\n",
    "        if g[j]==1:\n",
    "            flist[j]+=1\n",
    "    print(\"{0}  {1}  {2}  {3:.6f}\".format(i+1,\"\".join(map(str,g)),l,test))\n",
    "fattr=fattr/20\n",
    "ftest=ftest/20\n",
    "end=timeit.default_timer()\n",
    "time=end-start\n",
    "final=np.argsort(flist)[::-1][:fattr]\n",
    "for i in range(len(final)):\n",
    "    final_list[final[i]]=1\n",
    "print(\"{0}  {1}   {2}   {3:.6f}    {4:.4f}\".format(\"Final: \",\"\".join(map(str,final_list)),fattr,ftest,time))"
   ]
  }
 ],
 "metadata": {
  "kernelspec": {
   "display_name": "Python 2",
   "language": "python",
   "name": "python2"
  },
  "language_info": {
   "codemirror_mode": {
    "name": "ipython",
    "version": 2
   },
   "file_extension": ".py",
   "mimetype": "text/x-python",
   "name": "python",
   "nbconvert_exporter": "python",
   "pygments_lexer": "ipython2",
   "version": "2.7.15+"
  }
 },
 "nbformat": 4,
 "nbformat_minor": 2
}
