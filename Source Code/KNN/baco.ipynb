{
 "cells": [
  {
   "cell_type": "code",
   "execution_count": 1,
   "metadata": {},
   "outputs": [],
   "source": [
    "import random,math,copy,timeit,operator\n",
    "from sklearn import utils,preprocessing\n",
    "import numpy as np\n",
    "import pandas as pd\n",
    "from sklearn.model_selection import train_test_split\n",
    "from copy import deepcopy as dc\n",
    "from sys import exit\n",
    "from sklearn.neighbors import KNeighborsClassifier\n",
    "from sklearn import model_selection as ms"
   ]
  },
  {
   "cell_type": "code",
   "execution_count": 2,
   "metadata": {},
   "outputs": [],
   "source": [
    "class ants(object):\n",
    "    def __init__(self,gens=None,mse=None):\n",
    "        self.gens=gens\n",
    "        self.mse=mse"
   ]
  },
  {
   "cell_type": "code",
   "execution_count": 3,
   "metadata": {},
   "outputs": [],
   "source": [
    "def random_search(n,dim):\n",
    "    gens=[[0 for g in range(dim)] for _ in range(n)]\n",
    "    for i,gen in enumerate(gens) :\n",
    "        r=random.randint(1,dim)\n",
    "        for _r in range(r):\n",
    "            gen[_r]=1\n",
    "        random.shuffle(gen)\n",
    "    return gens\n",
    "\n"
   ]
  },
  {
   "cell_type": "code",
   "execution_count": 4,
   "metadata": {},
   "outputs": [],
   "source": [
    "def k_search(n,dim,flist,pheromone):\n",
    "    gens=[[0 for g in range(dim)] for _ in range(n)]\n",
    "    for i,gen in enumerate(gens) :\n",
    "        r=random.randint(1,dim)\n",
    "        for _r in range(r):\n",
    "            gen[_r]=1\n",
    "        random.shuffle(gen)\n",
    "        for j,x in enumerate(gen):\n",
    "            gen[j]=flist[j]*gen[j]\n",
    "    return gens\n"
   ]
  },
  {
   "cell_type": "code",
   "execution_count": 5,
   "metadata": {},
   "outputs": [],
   "source": [
    "def evaluate(train_d,train_l,gen):\n",
    "        mask=np.array(gen) > 0\n",
    "        al_data=np.array([al[mask] for al in train_d])\n",
    "        kf = ms.KFold(n_splits=4)\n",
    "        s = 0\n",
    "        for tr_ix,te_ix in kf.split(al_data):\n",
    "            s+= KNeighborsClassifier(n_neighbors=3).fit(al_data[tr_ix],train_l[tr_ix]).score(al_data[te_ix],train_l[te_ix])#.predict(al_test_data)\n",
    "        s/=4\n",
    "        return s"
   ]
  },
  {
   "cell_type": "code",
   "execution_count": 6,
   "metadata": {},
   "outputs": [],
   "source": [
    "def BACO(train_d,train_l,n=30,max_iter=25,T0=0.1,k=10,m=25,p=3,rho=0.25):\n",
    "    \"\"\"\n",
    "    input:{ Eval_Func: Evaluate_Function, type is class\n",
    "            n: Number of population, default=20\n",
    "            max_iter: Number of max iteration, default=300\n",
    "            }\n",
    "    output:{\n",
    "            Best position: type list(int) [1,0,0,1,.....]\n",
    "            Nunber of 1s in best position: type int [0,1,1,0,1] → 3\n",
    "            }\n",
    "    \"\"\"\n",
    "    dim=len(train_d[0])\n",
    "    global_best=float(\"-inf\")\n",
    "    pheromone=list([T0]*dim)\n",
    "    pher_diff=list([0]*dim)\n",
    "    global_position=tuple([0]*dim)\n",
    "    antslist=[]\n",
    "    gens_dict = {}\n",
    "    for i in range(n):\n",
    "        gens=random_search(m,dim)\n",
    "        mse=0\n",
    "        for gen in gens:\n",
    "            if tuple(gen) in gens_dict:\n",
    "                score = gens_dict[tuple(gen)]\n",
    "            else:\n",
    "                score=evaluate(train_d,train_l,gen)\n",
    "                gens_dict[tuple(gen)]=score\n",
    "            global_best=score\n",
    "            global_position=dc(gen)\n",
    "            mse+=score\n",
    "        mse=mse/m\n",
    "        antslist.append(ants(gens,mse))\n",
    "    antslist.sort(key=operator.attrgetter('mse'), reverse=True)\n",
    "    klist=list(antslist[i] for i in range(k))\n",
    "    mselist=list(antslist[i].mse for i in range(k))\n",
    "    for j in range(len(klist)):\n",
    "        diff=(max(mselist)-mselist[j])/(max(max(mselist)-mselist))\n",
    "        flist=list([0]*dim)\n",
    "        for gen in klist[j].gens:\n",
    "            for a,x in enumerate(gen):\n",
    "                if x==1:\n",
    "                    pher_diff[a]=diff\n",
    "                    flist[a]=1\n",
    "                else:\n",
    "                    pher_diff[a]=0\n",
    "    \n",
    "    for i in range(len(pheromone)):\n",
    "        pheromone[i]=pheromone[i]*rho + pher_diff[i]\n",
    "        \n",
    "        \n",
    "    for it in range(max_iter):\n",
    "        m=m-p\n",
    "        for i in range(n):\n",
    "            gens=k_search(m,dim,flist,pheromone)\n",
    "            mse=0\n",
    "            for gen in gens:\n",
    "                if tuple(gen) in gens_dict:\n",
    "                    score = gens_dict[tuple(gen)]\n",
    "                else:\n",
    "                    score=evaluate(train_d,train_l,gen)\n",
    "                    gens_dict[tuple(gen)]=score\n",
    "                global_best=score\n",
    "                global_position=dc(gen)\n",
    "                mse+=score\n",
    "            mse=mse/m\n",
    "            antslist.append(ants(gens,mse))\n",
    "        antslist.sort(key=operator.attrgetter('mse'), reverse=True)\n",
    "        klist=list(antslist[i] for i in range(k))\n",
    "        mselist=list(antslist[i].mse for i in range(k))\n",
    "        for j in range(len(klist)):\n",
    "            diff=(max(mselist)-mselist[j])/(max(max(mselist)-mselist))\n",
    "            flist=list([0]*dim)\n",
    "            for gen in klist[j].gens:\n",
    "                for i,x in enumerate(gen):\n",
    "                    if x==1:\n",
    "                        pher_diff[i]=diff\n",
    "                        flist[i]=1\n",
    "                    else:\n",
    "                        pher_diff[i]=0\n",
    "    \n",
    "        for i in range(len(pheromone)):\n",
    "            pheromone[i]=pheromone[i]*rho + pher_diff[i]\n",
    "\n",
    "        \n",
    "    return global_position,global_position.count(1)\n"
   ]
  },
  {
   "cell_type": "code",
   "execution_count": 7,
   "metadata": {},
   "outputs": [],
   "source": [
    "def test_score(gen,tr_x,tr_y,te_x,te_y):\n",
    "    mask=np.array(gen) == 1\n",
    "    al_data=np.array(tr_x[:,mask])\n",
    "    al_test_data=np.array(te_x[:,mask])\n",
    "    return np.mean([KNeighborsClassifier(n_neighbors=3).fit(al_data,tr_y).score(al_test_data,te_y) for i in range(5)])"
   ]
  },
  {
   "cell_type": "code",
   "execution_count": 8,
   "metadata": {},
   "outputs": [],
   "source": [
    "with open(\"/home/shubbham28/Downloads/Breast Cancer/wdbc1.csv\") as f:\n",
    "    x=np.array([[float(d) for d  in data.split(',')] for data in f.read().splitlines()])\n",
    "with open(\"/home/shubbham28/Downloads/Breast Cancer/wdbc2.csv\") as f:\n",
    "    y=np.array([float(data) for data in f.read().splitlines()])\n",
    "lab_enc = preprocessing.LabelEncoder()\n",
    "training_scores_encoded = lab_enc.fit_transform(y)\n",
    "train_d, test_d, train_l, test_l = train_test_split(x, training_scores_encoded, test_size=0.25)"
   ]
  },
  {
   "cell_type": "code",
   "execution_count": 10,
   "metadata": {
    "scrolled": true
   },
   "outputs": [
    {
     "name": "stdout",
     "output_type": "stream",
     "text": [
      "0.9300699300699302\n",
      "1  111111111111111111111111111101  29  0.930070\n",
      "2  000101000111101111111111100010  18  0.930070\n",
      "3  111111011110100111111010101011  22  0.916084\n",
      "4  110001101011000010000110000011  12  0.923077\n",
      "5  111101111111111101110111111011  26  0.930070\n",
      "6  001010010100111111010000000101  13  0.818182\n",
      "7  111111111111111111111111111111  30  0.930070\n",
      "8  111001111011010001000111111101  19  0.930070\n",
      "9  111100111111111101011010110110  22  0.916084\n",
      "10  111111011110111111111111111011  27  0.930070\n",
      "11  101011100011011011101001010100  16  0.916084\n",
      "12  011001110101001110101101011101  18  0.923077\n",
      "13  111111101110101111110111111111  26  0.930070\n",
      "14  000100000001101000000000000000  4  0.881119\n",
      "15  001000100000100100100001010000  7  0.916084\n",
      "16  110111111011111011011111111111  26  0.930070\n",
      "17  001010100011000001001010110101  12  0.902098\n",
      "18  011011011010011111101111110100  20  0.930070\n",
      "19  001100100000011000000110010101  10  0.937063\n",
      "20  000000100000000000100000000000  2  0.867133\n",
      "Final:   011001100010101111100111010101   17   0.914336    1751.5536\n"
     ]
    }
   ],
   "source": [
    "k=[1 for r in range(len(x[0]))]\n",
    "print test_score(k,train_d,train_l,test_d,test_l)\n",
    "fattr=0\n",
    "ftest=0.0\n",
    "flist=[0 for r in range(len(x[0]))]\n",
    "final_list=[0 for r in range(len(x[0]))]\n",
    "start=timeit.default_timer()\n",
    "for i in range(20):\n",
    "    g,l=BACO(train_d,train_l,n=30,max_iter=25,T0=0.1,k=10,m=25,p=3,rho=0.25)\n",
    "    fattr+=l\n",
    "    test=test_score(g,train_d,train_l,test_d,test_l)\n",
    "    ftest+=test\n",
    "    for j in range(len(flist)):\n",
    "        if g[j]==1:\n",
    "            flist[j]+=1\n",
    "    print(\"{0}  {1}  {2}  {3:.6f}\".format(i+1,\"\".join(map(str,g)),l,test))\n",
    "fattr=fattr/20\n",
    "ftest=ftest/20\n",
    "end=timeit.default_timer()\n",
    "time=end-start\n",
    "final=np.argsort(flist)[::-1][:fattr]\n",
    "for i in range(len(final)):\n",
    "    final_list[final[i]]=1\n",
    "print(\"{0}  {1}   {2}   {3:.6f}    {4:.4f}\".format(\"Final: \",\"\".join(map(str,final_list)),fattr,ftest,time))"
   ]
  },
  {
   "cell_type": "code",
   "execution_count": 15,
   "metadata": {},
   "outputs": [
    {
     "data": {
      "text/plain": [
       "(270,)"
      ]
     },
     "execution_count": 15,
     "metadata": {},
     "output_type": "execute_result"
    }
   ],
   "source": [
    "with open(\"/home/shubbham28/Downloads/Arrhythmia/heart.csv\") as f:\n",
    "    x=np.array([[float(d) for d  in data.split(',')] for data in f.read().splitlines()])\n",
    "with open(\"/home/shubbham28/Downloads/Arrhythmia/heart_output.csv\") as f:\n",
    "    y=np.array([float(data) for data in f.read().splitlines()])\n",
    "lab_enc = preprocessing.LabelEncoder()\n",
    "training_scores_encoded = lab_enc.fit_transform(y)\n",
    "train_d, test_d, train_l, test_l = train_test_split(x, training_scores_encoded, test_size=0.25)\n",
    "y.shape"
   ]
  },
  {
   "cell_type": "code",
   "execution_count": 14,
   "metadata": {},
   "outputs": [
    {
     "name": "stdout",
     "output_type": "stream",
     "text": [
      "0.6911764705882353\n",
      "1  1111110111111  12  0.691176\n",
      "2  0000001001000  2  0.691176\n",
      "3  0100111111110  9  0.602941\n",
      "4  1111001011110  9  0.617647\n",
      "5  1111111111001  11  0.691176\n",
      "[3, 4, 3, 3, 3, 3, 4, 3, 4, 5, 3, 3, 2] 8\n",
      "[ 9  8  6  1 11 10  7  5]\n",
      "Final:   0100011111110   8   0.658824    43.6208\n"
     ]
    }
   ],
   "source": [
    "k=[1 for r in range(len(x[0]))]\n",
    "print test_score(k,train_d,train_l,test_d,test_l)\n",
    "fattr=0\n",
    "ftest=0.0\n",
    "flist=[0 for r in range(len(x[0]))]\n",
    "final_list=[0 for r in range(len(x[0]))]\n",
    "start=timeit.default_timer()\n",
    "for i in range(5):\n",
    "    g,l=BACO(train_d,train_l,n=30,max_iter=25,T0=0.1,k=10,m=25,p=3,rho=0.25)\n",
    "    fattr+=l\n",
    "    test=test_score(g,train_d,train_l,test_d,test_l)\n",
    "    ftest+=test\n",
    "    for j in range(len(flist)):\n",
    "        if g[j]==1:\n",
    "            flist[j]+=1\n",
    "    print(\"{0}  {1}  {2}  {3:.6f}\".format(i+1,\"\".join(map(str,g)),l,test))\n",
    "fattr=fattr/5\n",
    "ftest=ftest/5\n",
    "end=timeit.default_timer()\n",
    "time=end-start\n",
    "print flist,fattr\n",
    "final=np.argsort(flist)[::-1][:fattr]\n",
    "print final\n",
    "for i in range(len(final)):\n",
    "    final_list[final[i]]=1\n",
    "print(\"{0}  {1}   {2}   {3:.6f}    {4:.4f}\".format(\"Final: \",\"\".join(map(str,final_list)),fattr,ftest,time))"
   ]
  }
 ],
 "metadata": {
  "kernelspec": {
   "display_name": "Python 2",
   "language": "python",
   "name": "python2"
  },
  "language_info": {
   "codemirror_mode": {
    "name": "ipython",
    "version": 2
   },
   "file_extension": ".py",
   "mimetype": "text/x-python",
   "name": "python",
   "nbconvert_exporter": "python",
   "pygments_lexer": "ipython2",
   "version": "2.7.15rc1"
  }
 },
 "nbformat": 4,
 "nbformat_minor": 2
}
